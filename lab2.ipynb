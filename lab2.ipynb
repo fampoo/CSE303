{
  "nbformat": 4,
  "nbformat_minor": 0,
  "metadata": {
    "colab": {
      "name": "lab2.ipynb",
      "provenance": [],
      "collapsed_sections": [],
      "authorship_tag": "ABX9TyMA21cYk+BESMmgEb1Yhvcc",
      "include_colab_link": true
    },
    "kernelspec": {
      "name": "python3",
      "display_name": "Python 3"
    },
    "language_info": {
      "name": "python"
    }
  },
  "cells": [
    {
      "cell_type": "markdown",
      "metadata": {
        "id": "view-in-github",
        "colab_type": "text"
      },
      "source": [
        "<a href=\"https://colab.research.google.com/github/fampoo/CSE303/blob/main/lab2.ipynb\" target=\"_parent\"><img src=\"https://colab.research.google.com/assets/colab-badge.svg\" alt=\"Open In Colab\"/></a>"
      ]
    },
    {
      "cell_type": "markdown",
      "source": [
        "**Problem 1**"
      ],
      "metadata": {
        "id": "pgfrkKSlxNT3"
      }
    },
    {
      "cell_type": "code",
      "source": [
        "divisible8 = [i for i in range(1,1001) if i % 7 == 0] \n",
        "print(divisible8)"
      ],
      "metadata": {
        "colab": {
          "base_uri": "https://localhost:8080/"
        },
        "id": "jERe_1WKxTEO",
        "outputId": "673c38ac-ef3d-4201-c0be-9b7f80328bc9"
      },
      "execution_count": 19,
      "outputs": [
        {
          "output_type": "stream",
          "name": "stdout",
          "text": [
            "[7, 14, 21, 28, 35, 42, 49, 56, 63, 70, 77, 84, 91, 98, 105, 112, 119, 126, 133, 140, 147, 154, 161, 168, 175, 182, 189, 196, 203, 210, 217, 224, 231, 238, 245, 252, 259, 266, 273, 280, 287, 294, 301, 308, 315, 322, 329, 336, 343, 350, 357, 364, 371, 378, 385, 392, 399, 406, 413, 420, 427, 434, 441, 448, 455, 462, 469, 476, 483, 490, 497, 504, 511, 518, 525, 532, 539, 546, 553, 560, 567, 574, 581, 588, 595, 602, 609, 616, 623, 630, 637, 644, 651, 658, 665, 672, 679, 686, 693, 700, 707, 714, 721, 728, 735, 742, 749, 756, 763, 770, 777, 784, 791, 798, 805, 812, 819, 826, 833, 840, 847, 854, 861, 868, 875, 882, 889, 896, 903, 910, 917, 924, 931, 938, 945, 952, 959, 966, 973, 980, 987, 994]\n"
          ]
        }
      ]
    },
    {
      "cell_type": "markdown",
      "source": [
        "**Problem 2**"
      ],
      "metadata": {
        "id": "P5diZSXPzLxp"
      }
    },
    {
      "cell_type": "code",
      "source": [
        "six = [i for i in range(1,1001) if '6' in str(i)] \n",
        "print(six)"
      ],
      "metadata": {
        "id": "qCs0kzCkyVP-",
        "colab": {
          "base_uri": "https://localhost:8080/"
        },
        "outputId": "b000a613-4515-4295-e3ef-d796346a10d3"
      },
      "execution_count": 16,
      "outputs": [
        {
          "output_type": "stream",
          "name": "stdout",
          "text": [
            "[6, 16, 26, 36, 46, 56, 60, 61, 62, 63, 64, 65, 66, 67, 68, 69, 76, 86, 96, 106, 116, 126, 136, 146, 156, 160, 161, 162, 163, 164, 165, 166, 167, 168, 169, 176, 186, 196, 206, 216, 226, 236, 246, 256, 260, 261, 262, 263, 264, 265, 266, 267, 268, 269, 276, 286, 296, 306, 316, 326, 336, 346, 356, 360, 361, 362, 363, 364, 365, 366, 367, 368, 369, 376, 386, 396, 406, 416, 426, 436, 446, 456, 460, 461, 462, 463, 464, 465, 466, 467, 468, 469, 476, 486, 496, 506, 516, 526, 536, 546, 556, 560, 561, 562, 563, 564, 565, 566, 567, 568, 569, 576, 586, 596, 600, 601, 602, 603, 604, 605, 606, 607, 608, 609, 610, 611, 612, 613, 614, 615, 616, 617, 618, 619, 620, 621, 622, 623, 624, 625, 626, 627, 628, 629, 630, 631, 632, 633, 634, 635, 636, 637, 638, 639, 640, 641, 642, 643, 644, 645, 646, 647, 648, 649, 650, 651, 652, 653, 654, 655, 656, 657, 658, 659, 660, 661, 662, 663, 664, 665, 666, 667, 668, 669, 670, 671, 672, 673, 674, 675, 676, 677, 678, 679, 680, 681, 682, 683, 684, 685, 686, 687, 688, 689, 690, 691, 692, 693, 694, 695, 696, 697, 698, 699, 706, 716, 726, 736, 746, 756, 760, 761, 762, 763, 764, 765, 766, 767, 768, 769, 776, 786, 796, 806, 816, 826, 836, 846, 856, 860, 861, 862, 863, 864, 865, 866, 867, 868, 869, 876, 886, 896, 906, 916, 926, 936, 946, 956, 960, 961, 962, 963, 964, 965, 966, 967, 968, 969, 976, 986, 996]\n"
          ]
        }
      ]
    },
    {
      "cell_type": "markdown",
      "source": [
        "**problem 3**"
      ],
      "metadata": {
        "id": "0Rkr-E2Xzzvq"
      }
    },
    {
      "cell_type": "code",
      "source": [
        "nums = [i for i in range(1,1001)]\n",
        "string = \"amar porashuna korte bhallage na\"\n",
        "\n",
        "n=len(string)\n",
        "cnt=0\n",
        "\n",
        "for i in range(1,n):\n",
        "    if(string[i] == ' '):\n",
        "       cnt+=1 \n",
        "print(\"Spaces of the string is : \",cnt)"
      ],
      "metadata": {
        "colab": {
          "base_uri": "https://localhost:8080/"
        },
        "id": "ZNIeEFusz70_",
        "outputId": "af747e30-7164-4036-f61c-f6d7448fcc7d"
      },
      "execution_count": 15,
      "outputs": [
        {
          "output_type": "stream",
          "name": "stdout",
          "text": [
            "Spaces of the string is :  4\n"
          ]
        }
      ]
    },
    {
      "cell_type": "markdown",
      "source": [
        "**problem 4**"
      ],
      "metadata": {
        "id": "Jz9ZR2_v0w5C"
      }
    },
    {
      "cell_type": "code",
      "source": [
        "string = \"my name is obaidul qader\"\n",
        "for word in string:\n",
        "    if word in ('a','e','i','o','u','A','I','E','O','U'):\n",
        "        string = string.replace(word, '')\n",
        "        \n",
        "print(\"without vowel :\", string)\n"
      ],
      "metadata": {
        "colab": {
          "base_uri": "https://localhost:8080/"
        },
        "id": "e4_AHE5o03Kn",
        "outputId": "a9711521-c75d-4834-afb6-aaed7de8b773"
      },
      "execution_count": 13,
      "outputs": [
        {
          "output_type": "stream",
          "name": "stdout",
          "text": [
            "without vowel : my nm s bdl qdr\n"
          ]
        }
      ]
    },
    {
      "cell_type": "markdown",
      "source": [
        "**problem 5**"
      ],
      "metadata": {
        "id": "Ynj6vMH-1nCb"
      }
    },
    {
      "cell_type": "code",
      "source": [
        "string = \"my name is ikhtiar uddin mohammad bin bakhtiar khilji.\"\n",
        "word=string.split(\" \")\n",
        "L=len(word)\n",
        "for i in range (1,L):\n",
        "    if(len(word[i])<5 ):\n",
        "        print(word[i])"
      ],
      "metadata": {
        "colab": {
          "base_uri": "https://localhost:8080/"
        },
        "id": "axTYphFm1tfl",
        "outputId": "81b93243-4b99-4d8b-e50c-8d67bcdc4632"
      },
      "execution_count": 14,
      "outputs": [
        {
          "output_type": "stream",
          "name": "stdout",
          "text": [
            "name\n",
            "is\n",
            "bin\n"
          ]
        }
      ]
    },
    {
      "cell_type": "markdown",
      "source": [
        "**problem 6**"
      ],
      "metadata": {
        "id": "OVFRvSiQ2jJF"
      }
    },
    {
      "cell_type": "code",
      "source": [
        "string = \"jibon e onek taka kamaite hobe\"\n",
        "words = string.split()\n",
        "word_lengths = []\n",
        "for word in words:\n",
        "   word_lengths.append(len(word))\n",
        "print(words)\n",
        "print(word_lengths)"
      ],
      "metadata": {
        "colab": {
          "base_uri": "https://localhost:8080/"
        },
        "id": "80U3tLmP2lPV",
        "outputId": "0a3d234b-1460-4ca0-d601-bf5e0145fccd"
      },
      "execution_count": 18,
      "outputs": [
        {
          "output_type": "stream",
          "name": "stdout",
          "text": [
            "['jibon', 'e', 'onek', 'taka', 'kamaite', 'hobe']\n",
            "[5, 1, 4, 4, 7, 4]\n"
          ]
        }
      ]
    }
  ]
}