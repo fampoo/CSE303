{
  "nbformat": 4,
  "nbformat_minor": 0,
  "metadata": {
    "colab": {
      "name": "lab3.ipynb",
      "provenance": [],
      "authorship_tag": "ABX9TyMre3kF/0s8DG6oOKlRIsJZ",
      "include_colab_link": true
    },
    "kernelspec": {
      "name": "python3",
      "display_name": "Python 3"
    },
    "language_info": {
      "name": "python"
    }
  },
  "cells": [
    {
      "cell_type": "markdown",
      "metadata": {
        "id": "view-in-github",
        "colab_type": "text"
      },
      "source": [
        "<a href=\"https://colab.research.google.com/github/fampoo/CSE303/blob/main/lab3.ipynb\" target=\"_parent\"><img src=\"https://colab.research.google.com/assets/colab-badge.svg\" alt=\"Open In Colab\"/></a>"
      ]
    },
    {
      "cell_type": "code",
      "execution_count": 1,
      "metadata": {
        "colab": {
          "base_uri": "https://localhost:8080/"
        },
        "id": "WPfnLibfT2EI",
        "outputId": "03ffda4e-5776-4fd7-83a2-56b02196203d"
      },
      "outputs": [
        {
          "output_type": "stream",
          "name": "stdout",
          "text": [
            "0    4\n",
            "1    7\n",
            "2   -5\n",
            "3    3\n",
            "dtype: int64\n",
            "<class 'pandas.core.series.Series'>\n",
            "0    4\n",
            "dtype: int64\n",
            "0     9\n",
            "1    12\n",
            "2     0\n",
            "3     8\n",
            "dtype: int64\n",
            "0     8\n",
            "1    14\n",
            "2   -10\n",
            "3     6\n",
            "dtype: int64\n"
          ]
        }
      ],
      "source": [
        "import pandas as pd\n",
        "obj = pd.Series([4, 7, -5, 3])\n",
        "print(obj)\n",
        "print(type(obj))\n",
        "\n",
        "print(obj[obj%2==0])\n",
        "print(obj+5 )\n",
        "print(obj*2)"
      ]
    },
    {
      "cell_type": "code",
      "source": [
        "sdata = {'Ohio': 35000, 'Texas': 71000, 'Oregon': 16000, \n",
        " 'Utah': 5000}\n",
        "\n",
        "obj3 = pd.Series(sdata)\n",
        "print(obj3)"
      ],
      "metadata": {
        "colab": {
          "base_uri": "https://localhost:8080/"
        },
        "id": "6KWV5CN6T_wK",
        "outputId": "02c491c5-27d2-4099-f053-c623b78e8e80"
      },
      "execution_count": 2,
      "outputs": [
        {
          "output_type": "stream",
          "name": "stdout",
          "text": [
            "Ohio      35000\n",
            "Texas     71000\n",
            "Oregon    16000\n",
            "Utah       5000\n",
            "dtype: int64\n"
          ]
        }
      ]
    },
    {
      "cell_type": "code",
      "source": [
        "dict1 = {'id':[1,2,3],'name':['alice','bob','charlie'],\n",
        " 'age':[20, 25, 32]}\n",
        "df1 = pd.DataFrame(dict1)\n",
        "print(df1)"
      ],
      "metadata": {
        "colab": {
          "base_uri": "https://localhost:8080/"
        },
        "id": "K_KBXzUnVDVp",
        "outputId": "624c2360-db23-4af1-8b21-f0b8cd896a20"
      },
      "execution_count": 13,
      "outputs": [
        {
          "output_type": "stream",
          "name": "stdout",
          "text": [
            "   id     name  age\n",
            "0   1    alice   20\n",
            "1   2      bob   25\n",
            "2   3  charlie   32\n"
          ]
        }
      ]
    },
    {
      "cell_type": "code",
      "source": [
        "list1 = [['Aman',22,3.4,11],['karim',24,3.1,7],['malek',22,3.8,11]]\n",
        "df = pd.DataFrame(list1)\n",
        "df.columns = ['name','age','cgpa','hoursStudied']\n",
        "print(df.head())"
      ],
      "metadata": {
        "colab": {
          "base_uri": "https://localhost:8080/"
        },
        "id": "Bv6-6PQnVGPP",
        "outputId": "fce1a8cf-4f6d-478a-8738-cc9e1f4e9198"
      },
      "execution_count": 17,
      "outputs": [
        {
          "output_type": "stream",
          "name": "stdout",
          "text": [
            "    name  age  cgpa  hoursStudied\n",
            "0   Aman   22   3.4            11\n",
            "1  karim   24   3.1             7\n",
            "2  malek   22   3.8            11\n"
          ]
        }
      ]
    },
    {
      "cell_type": "code",
      "source": [
        ""
      ],
      "metadata": {
        "id": "TNRNuHwmWTbq"
      },
      "execution_count": null,
      "outputs": []
    }
  ]
}