{
  "nbformat": 4,
  "nbformat_minor": 0,
  "metadata": {
    "colab": {
      "name": "lab3.ipynb",
      "provenance": [],
      "authorship_tag": "ABX9TyMo16UgkpLnUY2m8HwsTjjK",
      "include_colab_link": true
    },
    "kernelspec": {
      "name": "python3",
      "display_name": "Python 3"
    },
    "language_info": {
      "name": "python"
    }
  },
  "cells": [
    {
      "cell_type": "markdown",
      "metadata": {
        "id": "view-in-github",
        "colab_type": "text"
      },
      "source": [
        "<a href=\"https://colab.research.google.com/github/fampoo/CSE303/blob/main/lab3.ipynb\" target=\"_parent\"><img src=\"https://colab.research.google.com/assets/colab-badge.svg\" alt=\"Open In Colab\"/></a>"
      ]
    },
    {
      "cell_type": "code",
      "execution_count": 1,
      "metadata": {
        "colab": {
          "base_uri": "https://localhost:8080/"
        },
        "id": "WPfnLibfT2EI",
        "outputId": "03ffda4e-5776-4fd7-83a2-56b02196203d"
      },
      "outputs": [
        {
          "output_type": "stream",
          "name": "stdout",
          "text": [
            "0    4\n",
            "1    7\n",
            "2   -5\n",
            "3    3\n",
            "dtype: int64\n",
            "<class 'pandas.core.series.Series'>\n",
            "0    4\n",
            "dtype: int64\n",
            "0     9\n",
            "1    12\n",
            "2     0\n",
            "3     8\n",
            "dtype: int64\n",
            "0     8\n",
            "1    14\n",
            "2   -10\n",
            "3     6\n",
            "dtype: int64\n"
          ]
        }
      ],
      "source": [
        "import pandas as pd\n",
        "obj = pd.Series([4, 7, -5, 3])\n",
        "print(obj)\n",
        "print(type(obj))\n",
        "\n",
        "print(obj[obj%2==0])\n",
        "print(obj+5 )\n",
        "print(obj*2)"
      ]
    }
  ]
}